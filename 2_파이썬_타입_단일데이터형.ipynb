{
  "nbformat": 4,
  "nbformat_minor": 0,
  "metadata": {
    "colab": {
      "provenance": [],
      "collapsed_sections": [
        "naxxTBXwRwq3",
        "h1EeuNmMO6Sv",
        "kLiU_AvSO0In",
        "xn74D_asOpoX",
        "srU8pKqNOqAm",
        "uzXsgH8GweAa",
        "5wttMaVmwgYz",
        "8orPBezCwkQh",
        "OexRexWmwh5h",
        "CqWa7OaE50OR",
        "dd0RpP_0OqQY"
      ],
      "include_colab_link": true
    },
    "kernelspec": {
      "name": "python3",
      "display_name": "Python 3"
    },
    "language_info": {
      "name": "python"
    }
  },
  "cells": [
    {
      "cell_type": "markdown",
      "metadata": {
        "id": "view-in-github",
        "colab_type": "text"
      },
      "source": [
        "<a href=\"https://colab.research.google.com/github/hyejeong1111/T-SUM/blob/main/2_%E1%84%91%E1%85%A1%E1%84%8B%E1%85%B5%E1%84%8A%E1%85%A5%E1%86%AB_%E1%84%90%E1%85%A1%E1%84%8B%E1%85%B5%E1%86%B8_%E1%84%83%E1%85%A1%E1%86%AB%E1%84%8B%E1%85%B5%E1%86%AF%E1%84%83%E1%85%A6%E1%84%8B%E1%85%B5%E1%84%90%E1%85%A5%E1%84%92%E1%85%A7%E1%86%BC.ipynb\" target=\"_parent\"><img src=\"https://colab.research.google.com/assets/colab-badge.svg\" alt=\"Open In Colab\"/></a>"
      ]
    },
    {
      "cell_type": "markdown",
      "source": [
        "# 원칙\n",
        "\n",
        "- **파이썬은 코드 작성시 열(세로줄)을 잘 맞춰야 한다**\n",
        "- 시작 코드는 **맨 앞줄부터 코딩 시작**"
      ],
      "metadata": {
        "id": "naxxTBXwRwq3"
      }
    },
    {
      "cell_type": "markdown",
      "source": [
        "# 주석(commnents) <- markdown 형식"
      ],
      "metadata": {
        "id": "h1EeuNmMO6Sv"
      }
    },
    {
      "cell_type": "code",
      "source": [
        "# 1줄 주석\n",
        "'''\n",
        "  여러줄 주석, 원래 여러 문자열 표현하는 방식인데 주석으로도 사용한다\n",
        "'''\n",
        "\"\"\"\n",
        "  홀따움표, 쌍따움표 3개를 나열해서 세트로 구성\n",
        "\"\"\""
      ],
      "metadata": {
        "colab": {
          "base_uri": "https://localhost:8080/",
          "height": 35
        },
        "id": "PCOlrnH1QHPJ",
        "outputId": "784d1a56-82c8-4cee-c931-8352db62c16e"
      },
      "execution_count": null,
      "outputs": [
        {
          "output_type": "execute_result",
          "data": {
            "text/plain": [
              "'\\n  홀따움표, 쌍따움표 3개를 나열해서 세트로 구성\\n'"
            ],
            "application/vnd.google.colaboratory.intrinsic+json": {
              "type": "string"
            }
          },
          "metadata": {},
          "execution_count": 2
        }
      ]
    },
    {
      "cell_type": "markdown",
      "source": [
        "# 변수"
      ],
      "metadata": {
        "id": "kLiU_AvSO0In"
      }
    },
    {
      "cell_type": "markdown",
      "source": [
        "- 데이터를 담는 그릇\n",
        "- 그릇에 들어있는 데이터는 바뀔수 있다\n",
        "- 만약에 바꿀수 없다면 <-> 상수(파이썬은 없다)\n",
        "- 상수는 변수명을 작성할대 무조건 대문자\n",
        "- 상수가 없기 때문에 상수처럼 변경시도 않함"
      ],
      "metadata": {
        "id": "pVN5zDukRBhY"
      }
    },
    {
      "cell_type": "code",
      "source": [
        "# 변수 a에 1을 담는다\n",
        "# 변수 a는 메모리 상에 존재하는 1의 주소값을 참조한다(가르킨다, 참조한다)\n",
        "a = 1\n",
        "\n",
        "# a 에 1일 잘 담겼는지 확인\n",
        "print( a )\n",
        "# 대화형 툴은 변수를 그냥 출력해도 결과가 나온다\n",
        "a"
      ],
      "metadata": {
        "colab": {
          "base_uri": "https://localhost:8080/"
        },
        "id": "lNbueRvAPk0W",
        "outputId": "5f379c96-8bab-4359-9c54-875faffe8bad"
      },
      "execution_count": null,
      "outputs": [
        {
          "output_type": "stream",
          "name": "stdout",
          "text": [
            "1\n"
          ]
        },
        {
          "output_type": "execute_result",
          "data": {
            "text/plain": [
              "1"
            ]
          },
          "metadata": {},
          "execution_count": 4
        }
      ]
    },
    {
      "cell_type": "code",
      "source": [
        "a = 3.14\n",
        "a\n",
        "# a라는 변수에는 어떤것도 담을수 있다(모든타입, 함수, 클레스) : 참조하는 것이니까\n",
        "# 이미 정의되어 있는 키워드, 함수명등등은 절대로 변수명으로 사용하면 않된다\n",
        "# 변수명은 네이밍 룰을 잡아도 되고, 팀별로 정의, 기존것과 겹치지 않게만 주의"
      ],
      "metadata": {
        "colab": {
          "base_uri": "https://localhost:8080/"
        },
        "id": "k3EuWaVxTHBV",
        "outputId": "7f68eb83-4ada-4941-f660-3d84a4f8d6cf"
      },
      "execution_count": null,
      "outputs": [
        {
          "output_type": "execute_result",
          "data": {
            "text/plain": [
              "3.14"
            ]
          },
          "metadata": {},
          "execution_count": 5
        }
      ]
    },
    {
      "cell_type": "code",
      "source": [
        "# 파이썬에서 문장의 끝에는 ;를 생략한다. 단, 넣을수 있다\n",
        "# ;을 사용한다면 한줄에 여러표현을 하는 것이므로 구분자 역활 담당\n",
        "a = 2;print( a )"
      ],
      "metadata": {
        "colab": {
          "base_uri": "https://localhost:8080/"
        },
        "id": "xMKDt9LmmMIb",
        "outputId": "4298a22c-94a7-4227-9812-13bc1ad99813"
      },
      "execution_count": null,
      "outputs": [
        {
          "output_type": "stream",
          "name": "stdout",
          "text": [
            "2\n"
          ]
        }
      ]
    },
    {
      "cell_type": "markdown",
      "source": [
        "# 수치형"
      ],
      "metadata": {
        "id": "xn74D_asOpoX"
      }
    },
    {
      "cell_type": "code",
      "source": [
        "a = 1\n",
        "# a는 어떤 변수인가? (타입 관점)\n",
        "# 변수의 타입을 확인하는 내장함수 => type()\n",
        "type( a )\n",
        "# 결과를 보니 정수(int) 확인됨"
      ],
      "metadata": {
        "colab": {
          "base_uri": "https://localhost:8080/"
        },
        "id": "G-CoZiXtm5vl",
        "outputId": "fe4be6af-9625-46b7-82eb-b91a5bcfb0b5"
      },
      "execution_count": null,
      "outputs": [
        {
          "output_type": "execute_result",
          "data": {
            "text/plain": [
              "int"
            ]
          },
          "metadata": {},
          "execution_count": 8
        }
      ]
    },
    {
      "cell_type": "code",
      "source": [
        "# 부동소수형 => float\n",
        "a = 3.14\n",
        "type( a )"
      ],
      "metadata": {
        "colab": {
          "base_uri": "https://localhost:8080/"
        },
        "id": "J47jfcLuncmt",
        "outputId": "298b15ec-7176-4592-9596-4e371cb250d7"
      },
      "execution_count": null,
      "outputs": [
        {
          "output_type": "execute_result",
          "data": {
            "text/plain": [
              "float"
            ]
          },
          "metadata": {},
          "execution_count": 9
        }
      ]
    },
    {
      "cell_type": "code",
      "source": [
        "# 변수명에 사용 가능한 문자\n",
        "# a-z, A-Z, _, 각국문자 => 시작문자(첫글자)로 사용 가능\n",
        "# 두번자 글자부터는 0~9 추가됨\n",
        "_a = 10\n",
        "_ = 100\n",
        "A10 = 9\n",
        "_a, _, A10"
      ],
      "metadata": {
        "colab": {
          "base_uri": "https://localhost:8080/"
        },
        "id": "DLyOJ7oNnpSZ",
        "outputId": "b78b935e-91a1-407d-808b-09acf3e37766"
      },
      "execution_count": null,
      "outputs": [
        {
          "output_type": "execute_result",
          "data": {
            "text/plain": [
              "(10, 100, 9)"
            ]
          },
          "metadata": {},
          "execution_count": 10
        }
      ]
    },
    {
      "cell_type": "code",
      "source": [
        "#1a = 100 (x)\n",
        "변수 = 1\n",
        "변수"
      ],
      "metadata": {
        "colab": {
          "base_uri": "https://localhost:8080/"
        },
        "id": "-ra0ebYLoX0i",
        "outputId": "25e9456f-af80-4c2c-cbcb-a730151c395f"
      },
      "execution_count": null,
      "outputs": [
        {
          "output_type": "execute_result",
          "data": {
            "text/plain": [
              "1"
            ]
          },
          "metadata": {},
          "execution_count": 11
        }
      ]
    },
    {
      "cell_type": "code",
      "source": [
        "# 상수 표현 (실제 상수는 없지만 상수 처럼 표현)\n",
        "# 상수는 값이 설정된 이래로 변경 불가하다\n",
        "# 대부분의 언어는 상수를 대문자로 표기한다\n",
        "MAX_COUNT = 10\n",
        "MAX_COUNT\n",
        "# 학습행위시 환경변수, 고정값, 임계값, 학습시 고정한 조건값들등등 변수명으로 활용"
      ],
      "metadata": {
        "colab": {
          "base_uri": "https://localhost:8080/"
        },
        "id": "9eclPFdVopIc",
        "outputId": "88847257-4896-4c5b-9aee-3b2061aca010"
      },
      "execution_count": null,
      "outputs": [
        {
          "output_type": "execute_result",
          "data": {
            "text/plain": [
              "10"
            ]
          },
          "metadata": {},
          "execution_count": 12
        }
      ]
    },
    {
      "cell_type": "code",
      "source": [
        "a = 1\n",
        "b = 2\n",
        "\n",
        "# 데이터가 수치이므로, 연산을 수행할수 있다\n",
        "# 일반적인 사칙연산, 나머지, 몫을 구하는 연산등등 기본 연산은 동일하게 수행됨\n",
        "a + b, a-b, a*b, a/b, a//b, a%b"
      ],
      "metadata": {
        "colab": {
          "base_uri": "https://localhost:8080/"
        },
        "id": "vrKTGM39pUlq",
        "outputId": "6dffeb44-5c60-4ea2-fc14-1e40a939f6f9"
      },
      "execution_count": null,
      "outputs": [
        {
          "output_type": "execute_result",
          "data": {
            "text/plain": [
              "(3, -1, 2, 0.5, 0, 1)"
            ]
          },
          "metadata": {},
          "execution_count": 14
        }
      ]
    },
    {
      "cell_type": "code",
      "source": [
        "# 단, 연산자 우선순위라는 것은 있다\n",
        "print( 1 + 2 * 3 )\n",
        "# *가 + 보다 우선순위가 높다\n",
        "# 우선잘 모를 경우 -> ( 그룹화 ) 서열을 올릴수 있다\n",
        "(1 + 2) * 3"
      ],
      "metadata": {
        "colab": {
          "base_uri": "https://localhost:8080/"
        },
        "id": "NeaB2faHpy8_",
        "outputId": "66f39ac0-5c1e-4ade-c0c1-2239f37bbf4a"
      },
      "execution_count": null,
      "outputs": [
        {
          "output_type": "stream",
          "name": "stdout",
          "text": [
            "7\n"
          ]
        },
        {
          "output_type": "execute_result",
          "data": {
            "text/plain": [
              "9"
            ]
          },
          "metadata": {},
          "execution_count": 17
        }
      ]
    },
    {
      "cell_type": "markdown",
      "source": [
        "# 문자열"
      ],
      "metadata": {
        "id": "srU8pKqNOqAm"
      }
    },
    {
      "cell_type": "markdown",
      "source": [
        "- 단일 데이터 형이면서, 연속데이터 형이다\n",
        "  - ex) 'a', 'ab'\n",
        "- 문자열은 수정 불가\n",
        "  - 문자열을 수정한다(x), 원본을 카피해서 조작한다(o)\n",
        "- 표현 기호\n",
        "  - 한줄 문자열 표기시\n",
        "    - ' ... '\n",
        "    - \" ... \"\n",
        "  - 여러줄, 주석용, 문자열의 구조를 유지할때\n",
        "    - ''' .... '''\n",
        "    - \"\"\" .... \"\"\"\n"
      ],
      "metadata": {
        "id": "nmx7fudAq1DC"
      }
    },
    {
      "cell_type": "code",
      "source": [
        "# 1. 한줄 문자열\n",
        "a = 'hello 고려대 ABC 123 !@#'\n",
        "a\n",
        "# 영소, 영대, 숫자, 특수문자, 한글 => 표현, 출력에 이상없다"
      ],
      "metadata": {
        "colab": {
          "base_uri": "https://localhost:8080/",
          "height": 35
        },
        "id": "eGKgqy3CsQfN",
        "outputId": "eeb05757-c1a5-4025-82a4-66a3bec63c32"
      },
      "execution_count": null,
      "outputs": [
        {
          "output_type": "execute_result",
          "data": {
            "text/plain": [
              "'hello 고려대 ABC 123 !@#'"
            ],
            "application/vnd.google.colaboratory.intrinsic+json": {
              "type": "string"
            }
          },
          "metadata": {},
          "execution_count": 18
        }
      ]
    },
    {
      "cell_type": "code",
      "source": [
        "# 2. 타입 확인\n",
        "type( a )\n",
        "# str => 문자열"
      ],
      "metadata": {
        "colab": {
          "base_uri": "https://localhost:8080/"
        },
        "id": "D9GHXJygsxph",
        "outputId": "4f2f1bbe-a5cf-43c0-b5ca-bedef466cc35"
      },
      "execution_count": null,
      "outputs": [
        {
          "output_type": "execute_result",
          "data": {
            "text/plain": [
              "str"
            ]
          },
          "metadata": {},
          "execution_count": 20
        }
      ]
    },
    {
      "cell_type": "code",
      "source": [
        "# 3. 여러줄, 구조유지, 주석용 표현법\n",
        "# 아래 표현은 DBA가 작성하는 SQL(데이터베이스에서 데이터를 추가/수정/삭제/조회등등.. 처리하는 언어)\n",
        "# 를 표현한 것이다\n",
        "a = '''\n",
        "  select\n",
        "    *\n",
        "  from\n",
        "    users;\n",
        "'''"
      ],
      "metadata": {
        "id": "UfpW_gevs_LJ"
      },
      "execution_count": null,
      "outputs": []
    },
    {
      "cell_type": "code",
      "source": [
        "# 여러줄 문자열\n",
        "a = \"\"\"\n",
        "  영국 '풋볼 인사이더'는 3일(한국시간) \"에버턴은 1억 2,100만 파운드(약 1,933억 원)의 손실을 기록했다. 에버턴은 현재 끔찍한 재정 상황으로 벼랑 끝에 서있다\"라고 보도했다.\n",
        "  올 시즌 에버턴의 상황이 좋지 않다. 작년 여름 갑작스럽게 팀의 감독이었던 카를로스 안첼로티 감독이 레알 마드리드로 향했고, 후임으로 라파엘 베니테즈 감독이 임명됐다. 급하게 팀을 재건하려 했지만 주축 선수들의 부상으로 제대로 힘을 쓸 수도 없었다.\n",
        "  결국 에버턴은 부진에 빠졌고, 강등 위기까지 놓였다. 현재 에버턴은 승점 25점(7승 4무 16패)으로 17위에 위치해있다. 18위 왓포드(승점 22점)보다 앞서 있고 3경기나 덜 치렀기 때문에 아직까지 격차를 벌릴 수 있지만, 여유로운 상황은 아니다.\n",
        "\"\"\""
      ],
      "metadata": {
        "id": "fDMNT-H0tsUX"
      },
      "execution_count": null,
      "outputs": []
    },
    {
      "cell_type": "code",
      "source": [
        "# 4. 섞어서 표현\n",
        "# 어떤 우선순위로 문자열이 처리되는가?\n",
        "# 내부에 ', \" 는 기호에 불가\n",
        "a = 'abc\"123\"def'\n",
        "a"
      ],
      "metadata": {
        "colab": {
          "base_uri": "https://localhost:8080/",
          "height": 35
        },
        "id": "ePrFF0TCuK1S",
        "outputId": "fa587f58-2b6b-42cd-8487-76047099a7a6"
      },
      "execution_count": null,
      "outputs": [
        {
          "output_type": "execute_result",
          "data": {
            "text/plain": [
              "'abc\"123\"def'"
            ],
            "application/vnd.google.colaboratory.intrinsic+json": {
              "type": "string"
            }
          },
          "metadata": {},
          "execution_count": 23
        }
      ]
    },
    {
      "cell_type": "code",
      "source": [
        "# 동일기호가 계속 나온다면 (오류) -> 이스케이프 문자로 표현\n",
        "# a = 'abc'123'def' <- 오류\n",
        "a = 'abc\\'123\\'def'\n",
        "a"
      ],
      "metadata": {
        "colab": {
          "base_uri": "https://localhost:8080/",
          "height": 35
        },
        "id": "xJ5sTnwquK3j",
        "outputId": "78c6a855-4dd5-42ef-b4f7-7819209a8667"
      },
      "execution_count": null,
      "outputs": [
        {
          "output_type": "execute_result",
          "data": {
            "text/plain": [
              "\"abc'123'def\""
            ],
            "application/vnd.google.colaboratory.intrinsic+json": {
              "type": "string"
            }
          },
          "metadata": {},
          "execution_count": 24
        }
      ]
    },
    {
      "cell_type": "code",
      "source": [
        "# 5. 문자열과 연산기호\n",
        "a = '123'\n",
        "b = '456'\n",
        "\n",
        "# 2개의 문자열의 더해서 새로운 사본 문자열을 생성한 것이다(원본 그대로 유지됨)\n",
        "# a의 문자열 뒤로 b의 문자열을 이어서 사본을 만든다.\n",
        "a + b, a, b"
      ],
      "metadata": {
        "colab": {
          "base_uri": "https://localhost:8080/"
        },
        "id": "m4oeJvSquK6O",
        "outputId": "f1603bc6-e788-4852-ded5-e0cb92fb03bf"
      },
      "execution_count": null,
      "outputs": [
        {
          "output_type": "execute_result",
          "data": {
            "text/plain": [
              "('123456', '123', '456')"
            ]
          },
          "metadata": {},
          "execution_count": 26
        }
      ]
    },
    {
      "cell_type": "code",
      "source": [
        "# 문자열이 * x 만큼 반복적으로 등장한다\n",
        "a * 3"
      ],
      "metadata": {
        "colab": {
          "base_uri": "https://localhost:8080/",
          "height": 35
        },
        "id": "Gffy29IBuK82",
        "outputId": "c45f126e-8e33-45ea-e6fc-0bd13c5bebc8"
      },
      "execution_count": null,
      "outputs": [
        {
          "output_type": "execute_result",
          "data": {
            "text/plain": [
              "'123123123'"
            ],
            "application/vnd.google.colaboratory.intrinsic+json": {
              "type": "string"
            }
          },
          "metadata": {},
          "execution_count": 27
        }
      ]
    },
    {
      "cell_type": "markdown",
      "source": [
        "## 인덱싱"
      ],
      "metadata": {
        "id": "uzXsgH8GweAa"
      }
    },
    {
      "cell_type": "markdown",
      "source": [
        "- 데이터에서 원하는 부분을 추출\n",
        "- 문자열, 리스트, 튜플, 딕셔너리, 배열, 시리즈, 데이터프레임, 텐서 **연속형 데이터 타입 전부 해당됨**\n",
        "- 데이터 전처리에 기본 베이스 원리\n",
        "- 연속데이터 -> 인덱싱 -> 차원**축소**가 발생됨\n",
        "  - 2차원 리스트 -> 인덱싱 -> 1차원 리스트\n",
        "  - 문자열은 차원이 없으므로 해당않됨"
      ],
      "metadata": {
        "id": "svJEv7CLzz4y"
      }
    },
    {
      "cell_type": "code",
      "source": [
        "a = '0123456789'\n",
        "# len( 변수 ) : 변수의 개수\n",
        "a, type(a), len(a)"
      ],
      "metadata": {
        "colab": {
          "base_uri": "https://localhost:8080/"
        },
        "id": "xwMKE_I70pvg",
        "outputId": "c5c9505c-bd5c-4368-a63b-68dbde7d8582"
      },
      "execution_count": null,
      "outputs": [
        {
          "output_type": "execute_result",
          "data": {
            "text/plain": [
              "('0123456789', str, 10)"
            ]
          },
          "metadata": {},
          "execution_count": 29
        }
      ]
    },
    {
      "cell_type": "code",
      "source": [
        "# a에서 3이라는 문자열을 추출하시오 -> 인덱싱(추출하라)\n",
        "# 사용법\n",
        "# 변수명[ 인덱스(정방향(0,1,2,..), 역방향(-1, -2,..)) ]\n",
        "# 인덱스는 추출하고자 하는 데이터에 가까운쪽으로 사용(통상)\n",
        "a[ 3 ]"
      ],
      "metadata": {
        "colab": {
          "base_uri": "https://localhost:8080/",
          "height": 35
        },
        "id": "PpX6SRRp1Oty",
        "outputId": "bdef1404-6c24-4c7a-a0f5-dc64112be845"
      },
      "execution_count": null,
      "outputs": [
        {
          "output_type": "execute_result",
          "data": {
            "text/plain": [
              "'3'"
            ],
            "application/vnd.google.colaboratory.intrinsic+json": {
              "type": "string"
            }
          },
          "metadata": {},
          "execution_count": 30
        }
      ]
    },
    {
      "cell_type": "code",
      "source": [
        "# 9를 추출하시오 a에서 => 문자열에서 한개의 문자 추출 => 인덱싱\n",
        "a[ -1 ]"
      ],
      "metadata": {
        "colab": {
          "base_uri": "https://localhost:8080/",
          "height": 35
        },
        "id": "rJMcrm9a2Vsa",
        "outputId": "868f90fc-5e4d-4a12-e38c-a4982a06864c"
      },
      "execution_count": null,
      "outputs": [
        {
          "output_type": "execute_result",
          "data": {
            "text/plain": [
              "'9'"
            ],
            "application/vnd.google.colaboratory.intrinsic+json": {
              "type": "string"
            }
          },
          "metadata": {},
          "execution_count": 31
        }
      ]
    },
    {
      "cell_type": "markdown",
      "source": [
        "## 슬라이싱"
      ],
      "metadata": {
        "id": "5wttMaVmwgYz"
      }
    },
    {
      "cell_type": "markdown",
      "source": [
        "- 원본 데이터에 특정 데이터를 자른다\n",
        "- 슬라이싱 통해서 추출한 데이터는 원본 데이터와 동일한 차원을 가진다 (차원유지)\n",
        "  - 데이터 모양(shape)양 달라질뿐, 그 demension(차원)은 유지된다\n",
        "- 문법\n",
        "  - 변수[시작인덱스:끝인덱스:간격(step) ]\n",
        "  - 간격은 생략되면 그냥 1이다"
      ],
      "metadata": {
        "id": "lYNyKAVu21Nm"
      }
    },
    {
      "cell_type": "code",
      "source": [
        "a"
      ],
      "metadata": {
        "colab": {
          "base_uri": "https://localhost:8080/",
          "height": 35
        },
        "id": "idTnsz5s31Dr",
        "outputId": "7734ef12-d109-4dd8-bf9f-7389897b18fc"
      },
      "execution_count": null,
      "outputs": [
        {
          "output_type": "execute_result",
          "data": {
            "text/plain": [
              "'0123456789'"
            ],
            "application/vnd.google.colaboratory.intrinsic+json": {
              "type": "string"
            }
          },
          "metadata": {},
          "execution_count": 32
        }
      ]
    },
    {
      "cell_type": "code",
      "source": [
        "# 0123456789\n",
        "# a[ x:y ] => x<= 값 < y\n",
        "# 인덱스는 항상 오른쪽값을 취한다, 단 끝인덱스는 경계값이다\n",
        "a[ 1:3 ]"
      ],
      "metadata": {
        "colab": {
          "base_uri": "https://localhost:8080/",
          "height": 35
        },
        "id": "JCNSxAqj3441",
        "outputId": "50201998-70cb-477c-c369-5c2ac8b7e3a4"
      },
      "execution_count": null,
      "outputs": [
        {
          "output_type": "execute_result",
          "data": {
            "text/plain": [
              "'12'"
            ],
            "application/vnd.google.colaboratory.intrinsic+json": {
              "type": "string"
            }
          },
          "metadata": {},
          "execution_count": 33
        }
      ]
    },
    {
      "cell_type": "code",
      "source": [
        "# '12345678' 값으로 출력되게 a를 자르시오\n",
        "# 처음부터 ~ 끝까지 => copy\n",
        "print( a[ : ] )\n",
        "\n",
        "a[ 1 : -1 ], a[ 1 : -1 : 2], a[ -2: ], a[ :2 ]"
      ],
      "metadata": {
        "colab": {
          "base_uri": "https://localhost:8080/"
        },
        "id": "GyzsynJj4a1U",
        "outputId": "e962cffe-09a5-4fc8-eb88-65755ea09653"
      },
      "execution_count": null,
      "outputs": [
        {
          "output_type": "stream",
          "name": "stdout",
          "text": [
            "0123456789\n"
          ]
        },
        {
          "output_type": "execute_result",
          "data": {
            "text/plain": [
              "('12345678', '1357', '89', '01')"
            ]
          },
          "metadata": {},
          "execution_count": 38
        }
      ]
    },
    {
      "cell_type": "markdown",
      "source": [
        "## 주요 문자열 처리 함수 (문자열 클레스에서 지원하는 함수)\n",
        "\n",
        "- 문자열.함수()"
      ],
      "metadata": {
        "id": "8orPBezCwkQh"
      }
    },
    {
      "cell_type": "code",
      "source": [
        "# 분해 => split()\n",
        "# 구분자를 가지고 문자열을 분해하여 개별 요소를 추출/사용 한다\n",
        "url = 'https://news.naver.com/main/read.naver?mode=LSD&mid=shm&sid1=105&oid=629&aid=0000141098'\n",
        "\n",
        "# 구분자는 특정 기호(문자)를 기준으로 문자열이 나눠진다면 그것을 구분자라 한다\n",
        "# 통상, csv 파일일은 구분자를 통해서 작성이 된다(통상 , |, ..)\n",
        "# 629라는  oid값을 추출하시오?\n",
        "# 문자열의 함수 split\n",
        "a = url.split('?')\n",
        "'''\n",
        "  [ 'https://news.naver.com/main/read.naver',\n",
        "    'mode=LSD&mid=shm&sid1=105&oid=629&aid=0000141098']\n",
        "'''\n",
        "# 629라는 iod 값을 추출하시오\n",
        "type( a ), a[ -1 ], a[ -1 ].split('&'), a[ -1 ].split('&')[-2], a[ -1 ].split('&')[-2]"
      ],
      "metadata": {
        "colab": {
          "base_uri": "https://localhost:8080/"
        },
        "id": "o6uctDNz6GMJ",
        "outputId": "1b87b291-15fd-4b9a-96d6-bc91a1c8c0d8"
      },
      "execution_count": null,
      "outputs": [
        {
          "output_type": "execute_result",
          "data": {
            "text/plain": [
              "(list,\n",
              " 'mode=LSD&mid=shm&sid1=105&oid=629&aid=0000141098',\n",
              " ['mode=LSD', 'mid=shm', 'sid1=105', 'oid=629', 'aid=0000141098'],\n",
              " 'oid=629')"
            ]
          },
          "metadata": {},
          "execution_count": 45
        }
      ]
    },
    {
      "cell_type": "code",
      "source": [
        "url.split('?')[ -1 ].split('&')[-2].split('=')[-1]"
      ],
      "metadata": {
        "colab": {
          "base_uri": "https://localhost:8080/",
          "height": 35
        },
        "id": "HrU-Hx-FBJs3",
        "outputId": "0b1772ec-8589-46a2-959a-0f4bbd7ebc8e"
      },
      "execution_count": null,
      "outputs": [
        {
          "output_type": "execute_result",
          "data": {
            "text/plain": [
              "'629'"
            ],
            "application/vnd.google.colaboratory.intrinsic+json": {
              "type": "string"
            }
          },
          "metadata": {},
          "execution_count": 48
        }
      ]
    },
    {
      "cell_type": "code",
      "source": [
        "# 조인\n",
        "tmp = list( 'abc' )\n",
        "tmp"
      ],
      "metadata": {
        "colab": {
          "base_uri": "https://localhost:8080/"
        },
        "id": "uYlvKrqXBjP4",
        "outputId": "7ffa014a-cb5a-4854-c3fc-53ba9107e4e9"
      },
      "execution_count": null,
      "outputs": [
        {
          "output_type": "execute_result",
          "data": {
            "text/plain": [
              "['a', 'b', 'c']"
            ]
          },
          "metadata": {},
          "execution_count": 49
        }
      ]
    },
    {
      "cell_type": "code",
      "source": [
        "# 리스트 tmp에 있는 모든 요소를 뭉쳐서 한개의 문자열로 만드시오\n",
        "# 단, 요소들 사이에 |을 넣어서 구분한다\n",
        "# 결과물 => 'a|b|c'\n",
        "'|'.join( tmp )"
      ],
      "metadata": {
        "colab": {
          "base_uri": "https://localhost:8080/",
          "height": 35
        },
        "id": "qK1f-IhqB1zN",
        "outputId": "4383f916-2f53-48f1-a0df-1cedbc809a8d"
      },
      "execution_count": null,
      "outputs": [
        {
          "output_type": "execute_result",
          "data": {
            "text/plain": [
              "'a|b|c'"
            ],
            "application/vnd.google.colaboratory.intrinsic+json": {
              "type": "string"
            }
          },
          "metadata": {},
          "execution_count": 50
        }
      ]
    },
    {
      "cell_type": "code",
      "source": [
        "# 공백 제거 (왼쪽, 오른쪽, 양쪽)\n",
        "a = '  ab  cd   '\n",
        "print( '[' + a + ']' )\n",
        "print( '[' + a.lstrip() + ']' )\n",
        "print( '[' + a.rstrip() + ']' )\n",
        "print( '[' + a.strip()  + ']' )\n",
        "# 문자열 내부에 있는 공백을 제거한다 -> 정규식으로 해결"
      ],
      "metadata": {
        "colab": {
          "base_uri": "https://localhost:8080/"
        },
        "id": "zDM_lfQwCoL_",
        "outputId": "1eec44c2-2646-4330-8e5c-11b9375f077a"
      },
      "execution_count": null,
      "outputs": [
        {
          "output_type": "stream",
          "name": "stdout",
          "text": [
            "[  ab  cd   ]\n",
            "[ab  cd   ]\n",
            "[  ab  cd]\n",
            "[ab  cd]\n"
          ]
        }
      ]
    },
    {
      "cell_type": "code",
      "source": [
        "# 파이썬 버전 확인\n",
        "# !명령어 => 코랩의 운영체계 => ubuntu 리눅스(OS)에 직접 명령을 전달하여 결과를 확인한것\n",
        "# 이런 계열을 매직코드~\n",
        "!python -V"
      ],
      "metadata": {
        "colab": {
          "base_uri": "https://localhost:8080/"
        },
        "id": "mR4dECM9Ecbe",
        "outputId": "38a7c25e-ca67-4d14-905c-9a9aaa095332"
      },
      "execution_count": null,
      "outputs": [
        {
          "output_type": "stream",
          "name": "stdout",
          "text": [
            "Python 3.7.13\n"
          ]
        }
      ]
    },
    {
      "cell_type": "markdown",
      "source": [
        "## 포멧팅\n",
        "\n",
        "- 문자열과 문자열을 결합할때, 특정 데이터를 삽입할때 사용\n",
        "- Rule\n",
        "  - '문자열' % ( , , ... )\n",
        "  - '문자열'.format( , , ...)\n",
        "  - f'문자열{삽입데이터} ...'\n",
        "    - fString\n",
        "    - 파이썬 3.6 이상부터 지원"
      ],
      "metadata": {
        "id": "OexRexWmwh5h"
      }
    },
    {
      "cell_type": "code",
      "source": [
        "# 포멧팅 1 -> 타입을 알아야 한다\n",
        "a = 1\n",
        "b = 2\n",
        "# '1 + 2 = 3' 으로 출력하시오\n",
        "\n",
        "# %d, %f 등등 반드시 타입을 알거나, 제약해야 한다\n",
        "'%d + %d = %d' % ( a, b, a+b )"
      ],
      "metadata": {
        "colab": {
          "base_uri": "https://localhost:8080/",
          "height": 35
        },
        "id": "lbzjDDJfuLCP",
        "outputId": "c323587c-647f-4087-b09b-9fca703af438"
      },
      "execution_count": null,
      "outputs": [
        {
          "output_type": "execute_result",
          "data": {
            "text/plain": [
              "'1 + 2 = 3'"
            ],
            "application/vnd.google.colaboratory.intrinsic+json": {
              "type": "string"
            }
          },
          "metadata": {},
          "execution_count": 55
        }
      ]
    },
    {
      "cell_type": "code",
      "source": [
        "# 타입이 뭐가 되었던 문자열로 받겠다\n",
        "'%s + %s = %s' % ( a, b, a+b )"
      ],
      "metadata": {
        "colab": {
          "base_uri": "https://localhost:8080/",
          "height": 35
        },
        "id": "4QR_UszyuLE4",
        "outputId": "53fe414b-e668-425c-b4c4-1dbbc222a525"
      },
      "execution_count": null,
      "outputs": [
        {
          "output_type": "execute_result",
          "data": {
            "text/plain": [
              "'1 + 2 = 3'"
            ],
            "application/vnd.google.colaboratory.intrinsic+json": {
              "type": "string"
            }
          },
          "metadata": {},
          "execution_count": 56
        }
      ]
    },
    {
      "cell_type": "code",
      "source": [
        "# 포멧팅 2 -> 포멧팅 1을 개선 => 타입의 제약을 없앴다\n",
        "'{} + {} = {}'.format( a, b, a+b )"
      ],
      "metadata": {
        "colab": {
          "base_uri": "https://localhost:8080/",
          "height": 35
        },
        "id": "pc_G6bmvuLHr",
        "outputId": "cd4ea1d4-411e-4afb-c221-20ad2596b9f1"
      },
      "execution_count": null,
      "outputs": [
        {
          "output_type": "execute_result",
          "data": {
            "text/plain": [
              "'1 + 2 = 3'"
            ],
            "application/vnd.google.colaboratory.intrinsic+json": {
              "type": "string"
            }
          },
          "metadata": {},
          "execution_count": 57
        }
      ]
    },
    {
      "cell_type": "code",
      "source": [
        "# 들어가는 순서를 표기\n",
        "'{0} + {1} = {2}'.format( a, b, a+b )"
      ],
      "metadata": {
        "colab": {
          "base_uri": "https://localhost:8080/",
          "height": 35
        },
        "id": "N5iXXeumuLKa",
        "outputId": "09cce7e0-12d7-490f-9736-c71e2538159a"
      },
      "execution_count": null,
      "outputs": [
        {
          "output_type": "execute_result",
          "data": {
            "text/plain": [
              "'1 + 2 = 3'"
            ],
            "application/vnd.google.colaboratory.intrinsic+json": {
              "type": "string"
            }
          },
          "metadata": {},
          "execution_count": 58
        }
      ]
    },
    {
      "cell_type": "code",
      "source": [
        "# 들어가는 순서를 특정 위치로 옮겨도 된다\n",
        "'{1} + {0} = {2}'.format( a, b, a+b )"
      ],
      "metadata": {
        "colab": {
          "base_uri": "https://localhost:8080/",
          "height": 35
        },
        "id": "4SMTn05vuLNB",
        "outputId": "e7a27a1c-f1b3-4bad-b644-2eee7800e046"
      },
      "execution_count": null,
      "outputs": [
        {
          "output_type": "execute_result",
          "data": {
            "text/plain": [
              "'2 + 1 = 3'"
            ],
            "application/vnd.google.colaboratory.intrinsic+json": {
              "type": "string"
            }
          },
          "metadata": {},
          "execution_count": 59
        }
      ]
    },
    {
      "cell_type": "code",
      "source": [
        "# 파라미터에 있는데 미사용, 사용한것을 또 사용 -> OK -> 주의\n",
        "'{1} + {0} = {0}'.format( a, b, a+b )"
      ],
      "metadata": {
        "colab": {
          "base_uri": "https://localhost:8080/",
          "height": 35
        },
        "id": "AbeqcU-_uLPr",
        "outputId": "3586ff08-f31c-459e-8c75-c275f1711b07"
      },
      "execution_count": null,
      "outputs": [
        {
          "output_type": "execute_result",
          "data": {
            "text/plain": [
              "'2 + 1 = 1'"
            ],
            "application/vnd.google.colaboratory.intrinsic+json": {
              "type": "string"
            }
          },
          "metadata": {},
          "execution_count": 60
        }
      ]
    },
    {
      "cell_type": "code",
      "source": [
        "# 파라미터(함수의 인자)에 이름을 부여하여 포멧팅의 형식을 구체적으로 표시\n",
        "'{x} + {y} = {result}'.format( x=a, y=b, result=a+b )"
      ],
      "metadata": {
        "id": "fqutHkODHLuz"
      },
      "execution_count": null,
      "outputs": []
    },
    {
      "cell_type": "code",
      "source": [
        "# fString, 최신 트렌드를 적용하여, 필요한것만 표기\n",
        "f'{a} + {b} = {a+b}'"
      ],
      "metadata": {
        "colab": {
          "base_uri": "https://localhost:8080/",
          "height": 35
        },
        "id": "QGdfccDqHo4n",
        "outputId": "a077d762-88f0-40b1-e58d-a39491540ff1"
      },
      "execution_count": null,
      "outputs": [
        {
          "output_type": "execute_result",
          "data": {
            "text/plain": [
              "'1 + 2 = 3'"
            ],
            "application/vnd.google.colaboratory.intrinsic+json": {
              "type": "string"
            }
          },
          "metadata": {},
          "execution_count": 61
        }
      ]
    },
    {
      "cell_type": "code",
      "source": [
        "# 자리수 부여\n",
        "# < : 왼쪽 정렬\n",
        "# 기본, > : 오른쪽 정렬\n",
        "# ^ : 중앙 정렬\n",
        "# *는 공백대신 *로 채운다\n",
        "f'{a:10} + {b:<10} = {a+b:*^11}'"
      ],
      "metadata": {
        "colab": {
          "base_uri": "https://localhost:8080/",
          "height": 35
        },
        "id": "0Adjbl1cIEPl",
        "outputId": "3c9910d7-6135-48b7-d02b-ae30326cccbd"
      },
      "execution_count": null,
      "outputs": [
        {
          "output_type": "execute_result",
          "data": {
            "text/plain": [
              "'         1 + 2          = *****3*****'"
            ],
            "application/vnd.google.colaboratory.intrinsic+json": {
              "type": "string"
            }
          },
          "metadata": {},
          "execution_count": 67
        }
      ]
    },
    {
      "cell_type": "code",
      "source": [
        "# 대체\n",
        "'hello'.replace('l', '*')"
      ],
      "metadata": {
        "colab": {
          "base_uri": "https://localhost:8080/",
          "height": 35
        },
        "id": "zgcQ9hGZI7Tl",
        "outputId": "54067089-45b4-4a13-e6b0-121a72894419"
      },
      "execution_count": null,
      "outputs": [
        {
          "output_type": "execute_result",
          "data": {
            "text/plain": [
              "'he**o'"
            ],
            "application/vnd.google.colaboratory.intrinsic+json": {
              "type": "string"
            }
          },
          "metadata": {},
          "execution_count": 68
        }
      ]
    },
    {
      "cell_type": "code",
      "source": [
        "# 찾기, 검색\n",
        "# 찾는 결과가 없으면 -1, 있으면 위치값(인덱스)\n",
        "# 특정 문자열로 시작하는가?\n",
        "'abcdefg'.find('b'), 'abcdefg'.find('z'), 'abcdefg'.startswith('ab')"
      ],
      "metadata": {
        "colab": {
          "base_uri": "https://localhost:8080/"
        },
        "id": "SlQ9UNmJJH41",
        "outputId": "20f15e24-c777-4f68-9526-72687ef67a82"
      },
      "execution_count": null,
      "outputs": [
        {
          "output_type": "execute_result",
          "data": {
            "text/plain": [
              "(1, -1, True)"
            ]
          },
          "metadata": {},
          "execution_count": 71
        }
      ]
    },
    {
      "cell_type": "markdown",
      "source": [
        "## 정규식(차후 체크) -> 전처리시 사용"
      ],
      "metadata": {
        "id": "CqWa7OaE50OR"
      }
    },
    {
      "cell_type": "markdown",
      "source": [
        "# 블린형"
      ],
      "metadata": {
        "id": "dd0RpP_0OqQY"
      }
    },
    {
      "cell_type": "markdown",
      "source": [
        "- 참 : **True**, 거짓 : **False**\n",
        "- 블린형은 **조건식의 결과이다(결론이다)**\n",
        "- 거짓 상황만 기억\n",
        "  - 조건식에 아래와 같은 값이 단독으로 오면 거짓이다\n",
        "    - **False, 0, 0.0, '', [], {}, (), None**"
      ],
      "metadata": {
        "id": "Tac1wMCbKHUf"
      }
    },
    {
      "cell_type": "code",
      "source": [],
      "metadata": {
        "id": "6P9srqyOKBRl"
      },
      "execution_count": null,
      "outputs": []
    },
    {
      "cell_type": "markdown",
      "source": [
        "# 코드 테스트(2022-0417)\n"
      ],
      "metadata": {
        "id": "OA_fisHeR7_d"
      }
    },
    {
      "cell_type": "code",
      "source": [
        "a = '1'"
      ],
      "metadata": {
        "id": "c0hXvyAISB1Y"
      },
      "execution_count": null,
      "outputs": []
    },
    {
      "cell_type": "code",
      "source": [
        "# 문자열이 정수인지 체크하는 문자열 지원 함수\n",
        "a.isnumeric(), '3.14'.isnumeric(), 'abc'.isnumeric(), '가나다'.isnumeric(), '!@'.isnumeric()"
      ],
      "metadata": {
        "colab": {
          "base_uri": "https://localhost:8080/"
        },
        "id": "WfRUD8UGSEiw",
        "outputId": "cf40c5c3-c795-4742-b20f-b663cb4ad47c"
      },
      "execution_count": null,
      "outputs": [
        {
          "output_type": "execute_result",
          "data": {
            "text/plain": [
              "(True, False, False, False, False)"
            ]
          },
          "metadata": {},
          "execution_count": 3
        }
      ]
    },
    {
      "cell_type": "code",
      "source": [
        "'A'.strip().lower(), 'a'.strip().lower(), '  1Ab!@#@   #가나다   '.strip().lower()"
      ],
      "metadata": {
        "colab": {
          "base_uri": "https://localhost:8080/"
        },
        "id": "9O7Y3wmTSElI",
        "outputId": "d58f7ff1-6512-4139-f8de-9c947d86ec9f"
      },
      "execution_count": null,
      "outputs": [
        {
          "output_type": "execute_result",
          "data": {
            "text/plain": [
              "('a', 'a', '1ab!@#@   #가나다')"
            ]
          },
          "metadata": {},
          "execution_count": 7
        }
      ]
    },
    {
      "cell_type": "code",
      "source": [
        "answer = 'N'.lower()\n",
        "\n",
        "not answer or (answer != 'y' and answer != 'n')"
      ],
      "metadata": {
        "colab": {
          "base_uri": "https://localhost:8080/"
        },
        "id": "7EHhopzKuNGu",
        "outputId": "f81bf18c-84e6-479f-e7f3-7b03aa893c0b"
      },
      "execution_count": null,
      "outputs": [
        {
          "output_type": "execute_result",
          "data": {
            "text/plain": [
              "False"
            ]
          },
          "metadata": {},
          "execution_count": 13
        }
      ]
    },
    {
      "cell_type": "code",
      "source": [],
      "metadata": {
        "id": "zed5OgBCu3Lc"
      },
      "execution_count": null,
      "outputs": []
    }
  ]
}