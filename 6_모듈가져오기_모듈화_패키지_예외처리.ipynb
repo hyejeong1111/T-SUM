{
  "nbformat": 4,
  "nbformat_minor": 0,
  "metadata": {
    "colab": {
      "provenance": [],
      "collapsed_sections": [
        "Z76QYeSVNTl8",
        "Hp4HbviHNTqs"
      ],
      "include_colab_link": true
    },
    "kernelspec": {
      "name": "python3",
      "display_name": "Python 3"
    },
    "language_info": {
      "name": "python"
    }
  },
  "cells": [
    {
      "cell_type": "markdown",
      "metadata": {
        "id": "view-in-github",
        "colab_type": "text"
      },
      "source": [
        "<a href=\"https://colab.research.google.com/github/hyejeong1111/T-SUM/blob/main/6_%E1%84%86%E1%85%A9%E1%84%83%E1%85%B2%E1%86%AF%E1%84%80%E1%85%A1%E1%84%8C%E1%85%A7%E1%84%8B%E1%85%A9%E1%84%80%E1%85%B5_%E1%84%86%E1%85%A9%E1%84%83%E1%85%B2%E1%86%AF%E1%84%92%E1%85%AA_%E1%84%91%E1%85%A2%E1%84%8F%E1%85%B5%E1%84%8C%E1%85%B5_%E1%84%8B%E1%85%A8%E1%84%8B%E1%85%AC%E1%84%8E%E1%85%A5%E1%84%85%E1%85%B5.ipynb\" target=\"_parent\"><img src=\"https://colab.research.google.com/assets/colab-badge.svg\" alt=\"Open In Colab\"/></a>"
      ]
    },
    {
      "cell_type": "markdown",
      "source": [
        "# 모듈화"
      ],
      "metadata": {
        "id": "Z76QYeSVNTl8"
      }
    },
    {
      "cell_type": "markdown",
      "source": [
        "- 파이썬을 구성하는 요소\n",
        "  - 모듈\n",
        "    - xxxx.**py**\n",
        "  - 패키지\n",
        "    - 같은 기능을 가진 모듈을 모은 폴더(디렉토리)"
      ],
      "metadata": {
        "id": "saQjGd4yNW_-"
      }
    },
    {
      "cell_type": "markdown",
      "source": [
        "# 모듈_패키지만들기\n"
      ],
      "metadata": {
        "id": "Hp4HbviHNTqs"
      }
    },
    {
      "cell_type": "markdown",
      "source": [
        "\n",
        "\n",
        "```\n",
        "/\n",
        "L a                : 패키지\n",
        "  L b              : 패키지\n",
        "    L __init__.py  : 모듈, 패키지 자체를 대표\n",
        "    L mod.py       : 모듈\n",
        "  L __init__.py    : a 패키지를 대변, 파이썬 3.3 이하에서는 필수 사용, 그 이상에서는 생략 가능, 하위버전호환용(2.7버전대응)\n",
        "```\n",
        "\n"
      ],
      "metadata": {
        "id": "w2vZvQkqOgQ3"
      }
    },
    {
      "cell_type": "code",
      "source": [
        "# 모듈 가져오기\n",
        "# 경로를 계산할때는, 엔트리포인트(프로그램 진입점)에서부터 따진다\n",
        "'''\n",
        "from 패키지.패키지.....모듈 import 변수,함수,클레스,... or *\n",
        "from 패키지.패키지...패키지 import 변수,함수,클레스,... or *\n",
        "\n",
        "import 패키지.패키지.....모듈 as 별칭\n",
        "import 패키지.패키지...패키지 as 별칭\n",
        "\n",
        "import 패키지\n",
        "import 모듈\n",
        "'''\n",
        "\n",
        "from a.b.mod import PI, add\n",
        "PI, add( 3, 4 )"
      ],
      "metadata": {
        "colab": {
          "base_uri": "https://localhost:8080/"
        },
        "id": "60D5ooBsN0o5",
        "outputId": "0ab1ec49-143b-4ecf-a0dd-5b312e89ff56"
      },
      "execution_count": null,
      "outputs": [
        {
          "output_type": "execute_result",
          "data": {
            "text/plain": [
              "(3.14, 7)"
            ]
          },
          "metadata": {},
          "execution_count": 4
        }
      ]
    },
    {
      "cell_type": "code",
      "source": [
        "from a.b import PI2\n",
        "\n",
        "PI2"
      ],
      "metadata": {
        "colab": {
          "base_uri": "https://localhost:8080/"
        },
        "id": "KWCHIA1KRMA1",
        "outputId": "fd869e66-d34f-4fac-c95d-bd18dffba5ca"
      },
      "execution_count": null,
      "outputs": [
        {
          "output_type": "execute_result",
          "data": {
            "text/plain": [
              "3.144"
            ]
          },
          "metadata": {},
          "execution_count": 5
        }
      ]
    },
    {
      "cell_type": "code",
      "source": [
        "import a.b.mod as m\n",
        "\n",
        "m.PI, m.add(1,2)"
      ],
      "metadata": {
        "colab": {
          "base_uri": "https://localhost:8080/"
        },
        "id": "jN1qjcibRQuM",
        "outputId": "826143b7-18b2-4d02-8503-80af2e04185a"
      },
      "execution_count": null,
      "outputs": [
        {
          "output_type": "execute_result",
          "data": {
            "text/plain": [
              "(3.14, 3)"
            ]
          },
          "metadata": {},
          "execution_count": 7
        }
      ]
    },
    {
      "cell_type": "code",
      "source": [
        "import a.b as bb\n",
        "\n",
        "bb.PI2"
      ],
      "metadata": {
        "colab": {
          "base_uri": "https://localhost:8080/"
        },
        "id": "Iw5yzw6ORtJB",
        "outputId": "e3d52f6b-b5af-4e1f-ab0f-a7ac457ac0e9"
      },
      "execution_count": null,
      "outputs": [
        {
          "output_type": "execute_result",
          "data": {
            "text/plain": [
              "3.144"
            ]
          },
          "metadata": {},
          "execution_count": 8
        }
      ]
    },
    {
      "cell_type": "code",
      "source": [
        "import a\n",
        "\n",
        "a.PI3"
      ],
      "metadata": {
        "colab": {
          "base_uri": "https://localhost:8080/"
        },
        "id": "Mp0CJlyDR_IT",
        "outputId": "79d9dd76-fbf2-419e-f91a-ba3d0c567181"
      },
      "execution_count": null,
      "outputs": [
        {
          "output_type": "execute_result",
          "data": {
            "text/plain": [
              "3.144444"
            ]
          },
          "metadata": {},
          "execution_count": 9
        }
      ]
    },
    {
      "cell_type": "markdown",
      "source": [
        "# 예외처리\n",
        "\n",
        "- s/w는 구동중에 죽으면 않된다\n",
        "- 문제가 발생할만한 코드가 존재하면 예외처리를 수행하여 이를 극복, 처리ㅍ 해야한다\n",
        "- 반복 작업시 유용하게 사용, I/O 작업시 필수\n",
        "- 머신러닝, 딥러닝시 장시간 학습시 오류 발생에 대한 보험 조치를 할수 있다"
      ],
      "metadata": {
        "id": "oL06fpPUSdQm"
      }
    },
    {
      "cell_type": "code",
      "source": [
        "# 오류 발생시시 플로우\n",
        "try:\n",
        "  print( 1 )\n",
        "  1/0 # 일부러 오류 발생\n",
        "  print( 2 )\n",
        "except Exception as e: #오류가 발생하면 진입\n",
        "  print( 3, e )\n",
        "else:# 오류가 없으면 진입\n",
        "  print( 4 )\n",
        "finally:# 무조건 진입\n",
        "  print( 5 )"
      ],
      "metadata": {
        "colab": {
          "base_uri": "https://localhost:8080/"
        },
        "id": "f27UYqPxSF7z",
        "outputId": "b2c4e967-b430-4697-ba5a-5a0f8f053370"
      },
      "execution_count": null,
      "outputs": [
        {
          "output_type": "stream",
          "name": "stdout",
          "text": [
            "1\n",
            "3 division by zero\n",
            "5\n"
          ]
        }
      ]
    },
    {
      "cell_type": "code",
      "source": [
        "# 정상 처리시 플로우\n",
        "try:\n",
        "  print( 1 )\n",
        "  #1/0 # 일부러 오류 발생\n",
        "  print( 2 )\n",
        "except Exception as e:\n",
        "  print( 3, e )\n",
        "else:\n",
        "  print( 4 )\n",
        "finally:\n",
        "  print( 5 )"
      ],
      "metadata": {
        "colab": {
          "base_uri": "https://localhost:8080/"
        },
        "id": "whHuNIa6TH_8",
        "outputId": "4812c3d5-c9bf-42e8-925f-b270abdd3352"
      },
      "execution_count": null,
      "outputs": [
        {
          "output_type": "stream",
          "name": "stdout",
          "text": [
            "1\n",
            "2\n",
            "4\n",
            "5\n"
          ]
        }
      ]
    },
    {
      "cell_type": "code",
      "source": [],
      "metadata": {
        "id": "hKLL6jQFTn_0"
      },
      "execution_count": null,
      "outputs": []
    }
  ]
}