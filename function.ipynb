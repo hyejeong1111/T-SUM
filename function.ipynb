{
  "nbformat": 4,
  "nbformat_minor": 0,
  "metadata": {
    "colab": {
      "provenance": [],
      "collapsed_sections": [
        "HFAlBuJcyvBO",
        "-gzWZORXziR9",
        "gXsPpyeeC7qF"
      ],
      "toc_visible": true,
      "include_colab_link": true
    },
    "kernelspec": {
      "name": "python3",
      "display_name": "Python 3"
    },
    "language_info": {
      "name": "python"
    }
  },
  "cells": [
    {
      "cell_type": "markdown",
      "metadata": {
        "id": "view-in-github",
        "colab_type": "text"
      },
      "source": [
        "<a href=\"https://colab.research.google.com/github/hyejeong1111/T-SUM/blob/main/5_%E1%84%92%E1%85%A1%E1%86%B7%E1%84%89%E1%85%AE.ipynb\" target=\"_parent\"><img src=\"https://colab.research.google.com/assets/colab-badge.svg\" alt=\"Open In Colab\"/></a>"
      ]
    },
    {
      "cell_type": "markdown",
      "source": [
        "# 함수 개요 / 정의"
      ],
      "metadata": {
        "id": "HFAlBuJcyvBO"
      }
    },
    {
      "cell_type": "markdown",
      "source": [
        "- 특정한 업무를 수행하는 독립된 단위 (예, 더하기를 처리하는 함수, 문자열을 짝수번째만 제거하는 함수,..)\n",
        "- 함수는 **입력 -> 처리 -> 출력**이 존재한다(생략 가능하다)\n",
        "- 함수의 입력=파라미터, param, 인자(argments)\n",
        "- 함수의 출력=리턴값\n",
        "- 구성\n",
        "  - 함수 선언\n",
        "  - 함수 코드블럭\n",
        "  - 함수 수행문\n",
        "- **함수는 호출해야 의미를 가진다**"
      ],
      "metadata": {
        "id": "Zt-FTaPiyzZ0"
      }
    },
    {
      "cell_type": "markdown",
      "source": [
        "# 종류"
      ],
      "metadata": {
        "id": "-gzWZORXziR9"
      }
    },
    {
      "cell_type": "markdown",
      "source": [
        "- 사용자 정의 함수\n",
        "  - 개발자가 직접 만든 함수\n",
        "\n",
        "- 내장 함수\n",
        "  - 파이썬을 깔면 바로 사용가능함\n",
        "  - 추가적인 코드가 없다\n",
        "  - python의 core 함수 느낌\n",
        "  - print(), type(), len(), ...\n",
        "\n",
        "- 외장 함수\n",
        "  - 써드 파트 라이브러리(모듈)을 설치 혹은 가져온후 그 모듈에 소속되어 있는 함수를 지칭\n",
        "  - ex)\n",
        "    - import random\n",
        "    - ai_number      = random.randint(1,100)\n",
        "  -  import가 등장하고, xxx.(도트)함수명() 진행된다\n",
        "  - 소속이 표기된다(상황에 따라서는 숨길수 있다)\n",
        "\n",
        "- 람다 함수\n",
        "  - 처리 속도가 가장 빠르다\n",
        "  - 휘발성 함수(한번 사용하고 휘발됨)\n",
        "  - 함수 내부 구성이 까다롭다(가급적 1줄의 수행문)\n",
        "  - 주로 자주 만나는 함수\n",
        "    - 파이썬 : filter( 람다함수, ), map( 람다함수,)\n",
        "    - pandas : apply( 람다함수, )\n",
        "\n",
        "\n",
        "---\n",
        "\n",
        "\n",
        "- 클로저(생략)\n",
        "  - 함수의 내부에 함수가 존재한다(단순하게 표현)\n",
        "  - 반복적인 표현을 함축적으로 구성할수 있다\n",
        "    - 차후, 웹을 만날때( flask, Django ) 확인"
      ],
      "metadata": {
        "id": "bOlunls8zkX1"
      }
    },
    {
      "cell_type": "markdown",
      "source": [
        "- 특징\n",
        "  - 코드의 재활성을 높인다\n",
        "  - 코드가 간결, 확장성이 커진다\n",
        "  - 이로 인해 생상성이 높아져서, 개발 속도가 향상된다\n",
        "  - 함수 == 메소드"
      ],
      "metadata": {
        "id": "i-Ih6Orm1_al"
      }
    },
    {
      "cell_type": "markdown",
      "source": [
        "# 사용자 정의함수"
      ],
      "metadata": {
        "id": "gXsPpyeeC7qF"
      }
    },
    {
      "cell_type": "markdown",
      "source": [
        "- 사용자 정의 함수 문법\n",
        "\n",
        "\n",
        "```\n",
        "\n",
        "[ .. ] =>  생략 가능\n",
        "\n",
        "def 함수명 ( [매개변수(인자,파라미터),...] ): # 함수선언문\n",
        "  # 코드블럭 ~\n",
        "  # 수행문, statements가 0~ n개가 나올수 있다\n",
        "  # 리턴(출력처리)\n",
        "  [return [출력값, .... ]]\n",
        "\n",
        "```\n",
        "\n"
      ],
      "metadata": {
        "id": "3gPyw3AB2Z1W"
      }
    },
    {
      "cell_type": "code",
      "source": [
        "\n",
        "# 사용자 정의 함수\n",
        "# 2개의 수를 받아서(입력(파라미터,인자,매개변수)이 2개), 더해서 리턴하는 함수를 구현하시오\n",
        "def add( x, y ):\n",
        "  '''\n",
        "    - 함수명 : add\n",
        "    - 입력, 파라미터 :\n",
        "      - x : 정수\n",
        "      - y : 정수\n",
        "    - 출력, Return\n",
        "      - x + y 값을 리턴한다\n",
        "  '''\n",
        "  return x + y\n",
        "  #pass\n",
        "\n",
        "# 함수 호출\n",
        "add( 1, 2 )"
      ],
      "metadata": {
        "colab": {
          "base_uri": "https://localhost:8080/"
        },
        "id": "cJpb4mDjzcQ9",
        "outputId": "dbd5f248-3160-4eec-f5c7-837bb0511f1a"
      },
      "execution_count": null,
      "outputs": [
        {
          "output_type": "execute_result",
          "data": {
            "text/plain": [
              "3"
            ]
          },
          "metadata": {},
          "execution_count": 5
        }
      ]
    },
    {
      "cell_type": "code",
      "source": [
        "# 함수가 리턴하지 않으면  -> None을 반환한다\n",
        "def add2( x, y ):\n",
        "  print( '=>', x+y )\n",
        "  #pass\n",
        "\n",
        "print( add2(1, 2) )\n",
        "print( add(1, 2) )"
      ],
      "metadata": {
        "colab": {
          "base_uri": "https://localhost:8080/"
        },
        "id": "obs-WdOB5oF9",
        "outputId": "c116ef8c-e88c-43fd-bd4e-0bd5a8cda85f"
      },
      "execution_count": null,
      "outputs": [
        {
          "output_type": "stream",
          "name": "stdout",
          "text": [
            "=> 3\n",
            "None\n",
            "3\n"
          ]
        }
      ]
    },
    {
      "cell_type": "code",
      "source": [
        "# 함수가 2개의 값을 리턴하면 => tuple로 리턴된다\n",
        "def add3( x, y ):\n",
        "  return x+y, x-y\n",
        "\n",
        "a, b = add3( 1, 2 )\n",
        "b"
      ],
      "metadata": {
        "colab": {
          "base_uri": "https://localhost:8080/"
        },
        "id": "cm5QtIcf5oIX",
        "outputId": "1a68c889-a3db-4493-eff9-e09cc9482a8d"
      },
      "execution_count": null,
      "outputs": [
        {
          "output_type": "execute_result",
          "data": {
            "text/plain": [
              "-1"
            ]
          },
          "metadata": {},
          "execution_count": 13
        }
      ]
    },
    {
      "cell_type": "code",
      "source": [
        "# 리턴값이 없는 함수 ->위의 add2와 동일하다\n",
        "def add4( x, y):\n",
        "  print( x + y)\n",
        "  return"
      ],
      "metadata": {
        "id": "w8xbQD025oKz"
      },
      "execution_count": null,
      "outputs": []
    },
    {
      "cell_type": "code",
      "source": [
        "# 가변인자 -> tuple로 전달된다\n",
        "def add5( *x ):\n",
        "  print( x, x[0] )\n",
        "\n",
        "# 함수를 호출할때, 인자를 가변적으로 증감할수 있다\n",
        "add5( 1 )\n",
        "add5( 1,2 )\n",
        "add5( 1,2,3 )"
      ],
      "metadata": {
        "colab": {
          "base_uri": "https://localhost:8080/"
        },
        "id": "eFworEsr5oM_",
        "outputId": "82a6bfe5-d9f2-4f4b-d4b1-0e7d013d6eb2"
      },
      "execution_count": null,
      "outputs": [
        {
          "output_type": "stream",
          "name": "stdout",
          "text": [
            "(1,) 1\n",
            "(1, 2) 1\n",
            "(1, 2, 3) 1\n"
          ]
        }
      ]
    },
    {
      "cell_type": "code",
      "source": [
        "# 일반인자, 가변인자\n",
        "# 첫번째 인자는  a(일반인자)에 넣고 나머지는 가변인자로 전달\n",
        "def add6( a, *x ):\n",
        "  print( a, x, x[0] )\n",
        "\n",
        "# 함수를 호출할때, 인자를 가변적으로 증감할수 있다\n",
        "add6( 1,2 )\n",
        "add6( 1,2,3 )\n",
        "add6( 1,2,3,4 )"
      ],
      "metadata": {
        "colab": {
          "base_uri": "https://localhost:8080/"
        },
        "outputId": "f01f9429-f44b-48bd-8800-4e1c395d6b2a",
        "id": "Hw3ukEgh-3et"
      },
      "execution_count": null,
      "outputs": [
        {
          "output_type": "stream",
          "name": "stdout",
          "text": [
            "1 (2,) 2\n",
            "1 (2, 3) 2\n",
            "1 (2, 3, 4) 2\n"
          ]
        }
      ]
    },
    {
      "cell_type": "code",
      "source": [
        "def add7( *x, a  ):\n",
        "  print( a, x, x[0] )\n",
        "\n",
        "# 오류, 가변인자를 몇개로 제한할수가 없다\n",
        "add7( 1,2 )\n",
        "add7( 1,2,3 )\n",
        "add7( 1,2,3,4 )"
      ],
      "metadata": {
        "colab": {
          "base_uri": "https://localhost:8080/",
          "height": 235
        },
        "outputId": "7a11652a-c7d4-4d3b-8f15-c89cc0db4d0b",
        "id": "Xe_h51mn_eHs"
      },
      "execution_count": null,
      "outputs": [
        {
          "output_type": "error",
          "ename": "TypeError",
          "evalue": "ignored",
          "traceback": [
            "\u001b[0;31m---------------------------------------------------------------------------\u001b[0m",
            "\u001b[0;31mTypeError\u001b[0m                                 Traceback (most recent call last)",
            "\u001b[0;32m<ipython-input-19-a9b7b541c672>\u001b[0m in \u001b[0;36m<module>\u001b[0;34m()\u001b[0m\n\u001b[1;32m      3\u001b[0m \u001b[0;34m\u001b[0m\u001b[0m\n\u001b[1;32m      4\u001b[0m \u001b[0;31m# 함수를 호출할때, 인자를 가변적으로 증감할수 있다\u001b[0m\u001b[0;34m\u001b[0m\u001b[0;34m\u001b[0m\u001b[0;34m\u001b[0m\u001b[0m\n\u001b[0;32m----> 5\u001b[0;31m \u001b[0madd7\u001b[0m\u001b[0;34m(\u001b[0m \u001b[0;36m1\u001b[0m\u001b[0;34m,\u001b[0m\u001b[0;36m2\u001b[0m \u001b[0;34m)\u001b[0m\u001b[0;34m\u001b[0m\u001b[0;34m\u001b[0m\u001b[0m\n\u001b[0m\u001b[1;32m      6\u001b[0m \u001b[0madd7\u001b[0m\u001b[0;34m(\u001b[0m \u001b[0;36m1\u001b[0m\u001b[0;34m,\u001b[0m\u001b[0;36m2\u001b[0m\u001b[0;34m,\u001b[0m\u001b[0;36m3\u001b[0m \u001b[0;34m)\u001b[0m\u001b[0;34m\u001b[0m\u001b[0;34m\u001b[0m\u001b[0m\n\u001b[1;32m      7\u001b[0m \u001b[0madd7\u001b[0m\u001b[0;34m(\u001b[0m \u001b[0;36m1\u001b[0m\u001b[0;34m,\u001b[0m\u001b[0;36m2\u001b[0m\u001b[0;34m,\u001b[0m\u001b[0;36m3\u001b[0m\u001b[0;34m,\u001b[0m\u001b[0;36m4\u001b[0m \u001b[0;34m)\u001b[0m\u001b[0;34m\u001b[0m\u001b[0;34m\u001b[0m\u001b[0m\n",
            "\u001b[0;31mTypeError\u001b[0m: add7() missing 1 required keyword-only argument: 'a'"
          ]
        }
      ]
    },
    {
      "cell_type": "code",
      "source": [
        "def add8( *x, a  ):\n",
        "  print( a, x, x[0] )\n",
        "\n",
        "# 오류, 가변인자를 몇개로 제한할수가 없다\n",
        "# 대안 -> 함수값에 매개변수명을 부여한다\n",
        "add8( 1,a=2 )\n",
        "add8( 1,2,a=3 )\n",
        "add8( 1,2,3,a=4 )\n",
        "#add8( a=1,2,3,4 ) # 에러\n",
        "#add8( 1,a=2,3,4 ) # 에러"
      ],
      "metadata": {
        "colab": {
          "base_uri": "https://localhost:8080/"
        },
        "id": "MkdG8tYI-LyC",
        "outputId": "567314bd-bc76-42df-d959-e2546f6b2d64"
      },
      "execution_count": null,
      "outputs": [
        {
          "output_type": "stream",
          "name": "stdout",
          "text": [
            "2 (1,) 1\n",
            "3 (1, 2) 1\n",
            "4 (1, 2, 3) 1\n"
          ]
        }
      ]
    },
    {
      "cell_type": "code",
      "source": [
        "# **kargs: keyword argements => Dict\n",
        "# 머신러닝, 딥러닝, pandas 등등 대부분읜 클레스 ,함수들의 인자로 많이 사용\n",
        "# 업그레이드시 확장성을 제공(파라미터 확장)\n",
        "def test( **kargs ):\n",
        "  print( kargs )\n",
        "\n",
        "test( food='햄버거', brand='버거킹', station='오송' )"
      ],
      "metadata": {
        "colab": {
          "base_uri": "https://localhost:8080/"
        },
        "id": "GByhQCV3Aa1S",
        "outputId": "e9ffafb6-2a06-4c5f-c786-a69d37c3dbab"
      },
      "execution_count": null,
      "outputs": [
        {
          "output_type": "stream",
          "name": "stdout",
          "text": [
            "{'food': '햄버거', 'brand': '버거킹', 'station': '오송'}\n"
          ]
        }
      ]
    },
    {
      "cell_type": "code",
      "source": [
        "# 매개변수를 종류별로 다 나열 하였다\n",
        "def test2( a, b, *c, **kargs ):\n",
        "  print( a, b, c, kargs )\n",
        "\n",
        "test2(1, 2, 3, hi='오송')\n",
        "# 매개변수의 순서를 다르게 넣어서 호출할수는 있다\n",
        "# 이런 경우 매개변수명을 부여하여 명확하게 지칭한다 => 혼선이 올 가능성이 크다 => 순서대로 세팅 권장\n",
        "test2(3, hi='오송', a=1, b=2)"
      ],
      "metadata": {
        "colab": {
          "base_uri": "https://localhost:8080/",
          "height": 218
        },
        "id": "Phh7v-Ev-L0f",
        "outputId": "daed396e-af63-40b3-d9f1-cb8bf593c92a"
      },
      "execution_count": null,
      "outputs": [
        {
          "output_type": "stream",
          "name": "stdout",
          "text": [
            "1 2 (3,) {'hi': '오송'}\n"
          ]
        },
        {
          "output_type": "error",
          "ename": "TypeError",
          "evalue": "ignored",
          "traceback": [
            "\u001b[0;31m---------------------------------------------------------------------------\u001b[0m",
            "\u001b[0;31mTypeError\u001b[0m                                 Traceback (most recent call last)",
            "\u001b[0;32m<ipython-input-24-d4c37f0b2fd5>\u001b[0m in \u001b[0;36m<module>\u001b[0;34m()\u001b[0m\n\u001b[1;32m      6\u001b[0m \u001b[0;31m# 매개변수의 순서를 다르게 넣어서 호출할수는 있다\u001b[0m\u001b[0;34m\u001b[0m\u001b[0;34m\u001b[0m\u001b[0;34m\u001b[0m\u001b[0m\n\u001b[1;32m      7\u001b[0m \u001b[0;31m# 이런 경우 매개변수명을 부여하여 명확하게 지칭한다\u001b[0m\u001b[0;34m\u001b[0m\u001b[0;34m\u001b[0m\u001b[0;34m\u001b[0m\u001b[0m\n\u001b[0;32m----> 8\u001b[0;31m \u001b[0mtest2\u001b[0m\u001b[0;34m(\u001b[0m\u001b[0;36m3\u001b[0m\u001b[0;34m,\u001b[0m \u001b[0mhi\u001b[0m\u001b[0;34m=\u001b[0m\u001b[0;34m'오송'\u001b[0m\u001b[0;34m,\u001b[0m \u001b[0ma\u001b[0m\u001b[0;34m=\u001b[0m\u001b[0;36m1\u001b[0m\u001b[0;34m,\u001b[0m \u001b[0mb\u001b[0m\u001b[0;34m=\u001b[0m\u001b[0;36m2\u001b[0m\u001b[0;34m)\u001b[0m\u001b[0;34m\u001b[0m\u001b[0;34m\u001b[0m\u001b[0m\n\u001b[0m",
            "\u001b[0;31mTypeError\u001b[0m: test2() got multiple values for argument 'a'"
          ]
        }
      ]
    },
    {
      "cell_type": "code",
      "source": [
        "# 매개변수 기본값 부여\n",
        "def add10( x, y=11 ):\n",
        "# def add10( x=10, y ):  #<- 에러\n",
        "  print ( x+y )\n",
        "\n",
        "add10( 100 )\n",
        "add10( y=2, x=3 )"
      ],
      "metadata": {
        "colab": {
          "base_uri": "https://localhost:8080/"
        },
        "id": "FqiQyEBGCObK",
        "outputId": "64e0e3da-0104-46a8-8d16-2e17fbd06df8"
      },
      "execution_count": null,
      "outputs": [
        {
          "output_type": "stream",
          "name": "stdout",
          "text": [
            "111\n",
            "5\n"
          ]
        }
      ]
    },
    {
      "cell_type": "markdown",
      "source": [
        "# 내장함수\n",
        "\n",
        "- 파이썬을 설치하면 자동 제공\n",
        "- 종류가 많아서, 필요할때 확인\n",
        "- print, type, str, int, ,..."
      ],
      "metadata": {
        "id": "3kZyV0uBDEVo"
      }
    },
    {
      "cell_type": "code",
      "source": [
        "# I/O 작업(파일,디비,네트워크,...) -=> 열였으면 반드시 작업 후, 닫는다\n",
        "# 파일 오픈 및 처리\n",
        "# 있으면 그냥 열고, 없으면 만들고 난후 열고\n",
        "# 'w' 쓰기모드로 열어라, 'r' 읽기 모드로 열어라\n",
        "f = open('a.txt', 'w')\n",
        "# f를 통해서 파일에 접근한다\n",
        "# 파일 닫기\n",
        "f.close()"
      ],
      "metadata": {
        "id": "OzJ5COvz-L21"
      },
      "execution_count": null,
      "outputs": []
    },
    {
      "cell_type": "code",
      "source": [
        "f = open('a1.txt', 'w')\n",
        "f.write('123abcABC가나다!@#')\n",
        "f.close()"
      ],
      "metadata": {
        "id": "rB5FWqT5iJHM"
      },
      "execution_count": null,
      "outputs": []
    },
    {
      "cell_type": "code",
      "source": [
        "# 파이썬은 I/o에서 잘 않닫는 문제가 종종 발생 -> 자동으로 닫아주는 문법지원\n",
        "# with문\n",
        "# 별칭  => 원래이름 as 별칭\n",
        "#          지칭할 이름이 따로 없거나, 이름이 너무 길거나(복잡...)\n",
        "\n",
        "with open('a.txt', 'w') as f:\n",
        "  f.write('123abcABC가나다!@#')\n",
        "  # with문이 종료되면 자동으로 close() 된다\n",
        "  pass\n"
      ],
      "metadata": {
        "id": "KPKhu4Li-L5s"
      },
      "execution_count": null,
      "outputs": []
    },
    {
      "cell_type": "code",
      "source": [
        "with open('a.txt', 'r') as f:\n",
        "  print( f.read() )\n",
        "  pass"
      ],
      "metadata": {
        "colab": {
          "base_uri": "https://localhost:8080/"
        },
        "id": "Ty5JsOba-L7s",
        "outputId": "cbcb121e-df22-4048-c3a2-3a281e23b5e4"
      },
      "execution_count": null,
      "outputs": [
        {
          "output_type": "stream",
          "name": "stdout",
          "text": [
            "123abcABC가나다!@#\n"
          ]
        }
      ]
    },
    {
      "cell_type": "code",
      "source": [
        "# map 활용\n",
        "datas = [1,2,3,4,5]\n",
        "datas"
      ],
      "metadata": {
        "colab": {
          "base_uri": "https://localhost:8080/"
        },
        "id": "YQFOO0f95oPX",
        "outputId": "ecdad724-d911-42b6-d6c2-39a51e2ab24f"
      },
      "execution_count": null,
      "outputs": [
        {
          "output_type": "execute_result",
          "data": {
            "text/plain": [
              "[1, 2, 3, 4, 5]"
            ]
          },
          "metadata": {},
          "execution_count": 3
        }
      ]
    },
    {
      "cell_type": "code",
      "source": [
        "# map() => 연속형 데이터 타입의 맴버들 전체를 적용하여 뭔가 처리시 사용\n",
        "\n",
        "# 요구사항 -> datas의 모든 맴버들을 하나씩 꺼내서 값을 2배로 증가후\n",
        "# 다시 리스트로 구성하시오 - [1,2,3,4,5] => [2,4,6,...]\n",
        "\n",
        "def mul2(x):\n",
        "  return x*2\n",
        "\n",
        "list( map( mul2, datas ) )"
      ],
      "metadata": {
        "colab": {
          "base_uri": "https://localhost:8080/"
        },
        "id": "KUEhGFOs5oR1",
        "outputId": "0ceda901-f571-4753-c311-77b2d123e945"
      },
      "execution_count": null,
      "outputs": [
        {
          "output_type": "execute_result",
          "data": {
            "text/plain": [
              "<map at 0x7f3568e73490>"
            ]
          },
          "metadata": {},
          "execution_count": 5
        }
      ]
    },
    {
      "cell_type": "code",
      "source": [
        "# filter() => 연속형 데이터 타입의 맴버들 전체를 적용하여 해당되는것만 모은다\n",
        "def check(x):\n",
        "  #print( x, x>3 )\n",
        "  # 참인 값만 포함\n",
        "  return x>3\n",
        "list( filter( check, datas ) )"
      ],
      "metadata": {
        "colab": {
          "base_uri": "https://localhost:8080/"
        },
        "id": "J4_AI_4e5oUi",
        "outputId": "884150ff-c855-49eb-8a68-db560aad1ad9"
      },
      "execution_count": null,
      "outputs": [
        {
          "output_type": "execute_result",
          "data": {
            "text/plain": [
              "[4, 5]"
            ]
          },
          "metadata": {},
          "execution_count": 6
        }
      ]
    },
    {
      "cell_type": "markdown",
      "source": [
        "# 람다함수"
      ],
      "metadata": {
        "id": "IBJOGx_pJt_F"
      }
    },
    {
      "cell_type": "markdown",
      "source": [
        "- 다른 코드에서 호출할수 없다 (함수명이 없다)\n",
        "- 휘발성, 1회성, 빠른속도등등"
      ],
      "metadata": {
        "id": "LStheL1FKVLw"
      }
    },
    {
      "cell_type": "code",
      "source": [
        "list( map( lambda x: x*2, datas ) )"
      ],
      "metadata": {
        "colab": {
          "base_uri": "https://localhost:8080/"
        },
        "id": "qNEO1HwkJV3h",
        "outputId": "66d2efeb-2da0-45a5-9ae8-b5c314dc23df"
      },
      "execution_count": null,
      "outputs": [
        {
          "output_type": "execute_result",
          "data": {
            "text/plain": [
              "[2, 4, 6, 8, 10]"
            ]
          },
          "metadata": {},
          "execution_count": 35
        }
      ]
    },
    {
      "cell_type": "code",
      "source": [
        "list( filter( lambda x: x>3, datas ) )"
      ],
      "metadata": {
        "colab": {
          "base_uri": "https://localhost:8080/"
        },
        "id": "gHFSuoA5KARr",
        "outputId": "366d5691-227c-4427-b067-bf5334808d6a"
      },
      "execution_count": null,
      "outputs": [
        {
          "output_type": "execute_result",
          "data": {
            "text/plain": [
              "[4, 5]"
            ]
          },
          "metadata": {},
          "execution_count": 36
        }
      ]
    },
    {
      "cell_type": "markdown",
      "source": [
        "# 외장함수\n",
        "\n",
        "- 써드파트 모듈을 가져와서 사용 하는 형태\n",
        "- 통상 함수 앞에 소속을 표현하는 .이 존재한다"
      ],
      "metadata": {
        "id": "sqhsDk_yKlAN"
      }
    },
    {
      "cell_type": "code",
      "source": [
        "# pickle은 저장할 대상을 원본 그대로 처리한다\n",
        "\n",
        "import pickle as p\n",
        "# 이제부터 pickle은 p라고 부른다"
      ],
      "metadata": {
        "id": "kRK7CMZRKMK0"
      },
      "execution_count": null,
      "outputs": []
    },
    {
      "cell_type": "code",
      "source": [
        "datas"
      ],
      "metadata": {
        "colab": {
          "base_uri": "https://localhost:8080/"
        },
        "id": "-g6RYlBJK8dh",
        "outputId": "8df55123-bb7a-4a4d-937f-6a7955662f51"
      },
      "execution_count": null,
      "outputs": [
        {
          "output_type": "execute_result",
          "data": {
            "text/plain": [
              "[1, 2, 3, 4, 5]"
            ]
          },
          "metadata": {},
          "execution_count": 23
        }
      ]
    },
    {
      "cell_type": "code",
      "source": [
        "# 'w' => 텍스트로 저장 => 그냥 내용이 보임(가독가능)\n",
        "# 'wb' => 바이너리 형식으로 저장 => 열어도 해석 불가(기계어라고 생각하면딤)\n",
        "# 리스트 datas를 구조 그대로 포멧 그대로 타입 그대로 유지하면서 저장할려면 BINARY로 저장해야한다(텍스트모드 x함)\n",
        "# 확장자는 마음대로 한것임(딥러닝 사용하는 확장자를 활용)\n",
        "with open('model.h5', 'wb') as f:\n",
        "  # 저장 -> 덤프 -> 인코딩했다\n",
        "  p.dump( datas, f, p.HIGHEST_PROTOCOL )"
      ],
      "metadata": {
        "id": "Uu300HCFLD4j"
      },
      "execution_count": null,
      "outputs": []
    },
    {
      "cell_type": "code",
      "source": [
        "# 로드 -> 디코딩 처리한다\n",
        "with open('model.h5', 'rb') as f:\n",
        "  print( p.load(f) )"
      ],
      "metadata": {
        "colab": {
          "base_uri": "https://localhost:8080/"
        },
        "id": "niVVZHzVL9zZ",
        "outputId": "307c5bd4-f436-4c64-f59d-221c65a3e8b8"
      },
      "execution_count": null,
      "outputs": [
        {
          "output_type": "stream",
          "name": "stdout",
          "text": [
            "[1, 2, 3, 4, 5]\n"
          ]
        }
      ]
    },
    {
      "cell_type": "code",
      "source": [
        "f1 = open('model.h5', 'rb')\n",
        "p.load(f1)"
      ],
      "metadata": {
        "id": "4vFp2AO5MVXt",
        "colab": {
          "base_uri": "https://localhost:8080/"
        },
        "outputId": "5bf16a42-1494-49e1-e4f5-24f0505f371e"
      },
      "execution_count": null,
      "outputs": [
        {
          "output_type": "execute_result",
          "data": {
            "text/plain": [
              "[1, 2, 3, 4, 5]"
            ]
          },
          "metadata": {},
          "execution_count": 20
        }
      ]
    },
    {
      "cell_type": "code",
      "source": [
        "f1.close()"
      ],
      "metadata": {
        "id": "quKNMgAbkXJz"
      },
      "execution_count": null,
      "outputs": []
    },
    {
      "cell_type": "code",
      "source": [],
      "metadata": {
        "id": "tTP6jHepkg3q"
      },
      "execution_count": null,
      "outputs": []
    }
  ]
}
